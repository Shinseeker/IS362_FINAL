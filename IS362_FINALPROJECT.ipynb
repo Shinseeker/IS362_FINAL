{
 "cells": [
  {
   "cell_type": "markdown",
   "metadata": {
    "collapsed": false,
    "scrolled": true
   },
   "source": [
    "**IS362_FINAL: PART 1**\n",
    "\n",
    "BY Maureen Kilmade and Jake Kwok"
   ]
  },
  {
   "cell_type": "code",
   "execution_count": 56,
   "metadata": {
    "collapsed": true
   },
   "outputs": [],
   "source": [
    "#import libraries\n",
    "import pandas as pd\n",
    "import numpy as np\n",
    "import io\n",
    "import matplotlib.pyplot as plt\n",
    "import seaborn as sns\n",
    "%matplotlib inline"
   ]
  },
  {
   "cell_type": "markdown",
   "metadata": {},
   "source": [
    "The columns that are used.\n",
    "\n",
    "1) Div = League Division\n",
    "\n",
    "2) Date = Match Date (dd/mm/yy)\n",
    "\n",
    "3) HomeTeam = Home Team\n",
    "\n",
    "4) AwayTeam = Away Team\n",
    "\n",
    "5) FTHG = Full Time Home Team Goals\n",
    "\n",
    "6) FTAG = Full Time Away Team Goals\n",
    "\n",
    "7) FTR = Full Time Result (H=Home Win, D=Draw, A=Away Win)\n",
    "\n",
    "8) HTHG = Half Time Home Team Goals\n",
    "\n",
    "9) HTAG = Half Time Away Team Goals\n",
    "\n",
    "10) HTR = Half Time Result (H=Home Win, D=Draw, A=Away Win)"
   ]
  },
  {
   "cell_type": "markdown",
   "metadata": {},
   "source": [
    "From the code below i am reading the csv and putting into a dataframe called the \"Germanleague\". Then I Verfied the data to see if it was in Ascending order and it is identical with the csv."
   ]
  },
  {
   "cell_type": "code",
   "execution_count": 57,
   "metadata": {
    "collapsed": false,
    "scrolled": true
   },
   "outputs": [
    {
     "data": {
      "text/html": [
       "<div>\n",
       "<table border=\"1\" class=\"dataframe\">\n",
       "  <thead>\n",
       "    <tr style=\"text-align: right;\">\n",
       "      <th></th>\n",
       "      <th>AwayTeam</th>\n",
       "      <th>FTHG</th>\n",
       "      <th>FTAG</th>\n",
       "      <th>FTR</th>\n",
       "      <th>HTHG</th>\n",
       "      <th>HTAG</th>\n",
       "      <th>HTR</th>\n",
       "    </tr>\n",
       "    <tr>\n",
       "      <th>HomeTeam</th>\n",
       "      <th></th>\n",
       "      <th></th>\n",
       "      <th></th>\n",
       "      <th></th>\n",
       "      <th></th>\n",
       "      <th></th>\n",
       "      <th></th>\n",
       "    </tr>\n",
       "  </thead>\n",
       "  <tbody>\n",
       "    <tr>\n",
       "      <th>HomeTeam</th>\n",
       "      <td>AwayTeam</td>\n",
       "      <td>FTHG</td>\n",
       "      <td>FTAG</td>\n",
       "      <td>FTR</td>\n",
       "      <td>HTHG</td>\n",
       "      <td>HTAG</td>\n",
       "      <td>HTR</td>\n",
       "    </tr>\n",
       "    <tr>\n",
       "      <th>Bayern Munich</th>\n",
       "      <td>Werder Bremen</td>\n",
       "      <td>6</td>\n",
       "      <td>0</td>\n",
       "      <td>H</td>\n",
       "      <td>2</td>\n",
       "      <td>0</td>\n",
       "      <td>H</td>\n",
       "    </tr>\n",
       "    <tr>\n",
       "      <th>Augsburg</th>\n",
       "      <td>Wolfsburg</td>\n",
       "      <td>0</td>\n",
       "      <td>2</td>\n",
       "      <td>A</td>\n",
       "      <td>0</td>\n",
       "      <td>1</td>\n",
       "      <td>A</td>\n",
       "    </tr>\n",
       "    <tr>\n",
       "      <th>Dortmund</th>\n",
       "      <td>Mainz</td>\n",
       "      <td>2</td>\n",
       "      <td>1</td>\n",
       "      <td>H</td>\n",
       "      <td>1</td>\n",
       "      <td>0</td>\n",
       "      <td>H</td>\n",
       "    </tr>\n",
       "    <tr>\n",
       "      <th>Ein Frankfurt</th>\n",
       "      <td>Schalke 04</td>\n",
       "      <td>1</td>\n",
       "      <td>0</td>\n",
       "      <td>H</td>\n",
       "      <td>1</td>\n",
       "      <td>0</td>\n",
       "      <td>H</td>\n",
       "    </tr>\n",
       "    <tr>\n",
       "      <th>...</th>\n",
       "      <td>...</td>\n",
       "      <td>...</td>\n",
       "      <td>...</td>\n",
       "      <td>...</td>\n",
       "      <td>...</td>\n",
       "      <td>...</td>\n",
       "      <td>...</td>\n",
       "    </tr>\n",
       "    <tr>\n",
       "      <th>RB Leipzig</th>\n",
       "      <td>Ingolstadt</td>\n",
       "      <td>0</td>\n",
       "      <td>0</td>\n",
       "      <td>D</td>\n",
       "      <td>0</td>\n",
       "      <td>0</td>\n",
       "      <td>D</td>\n",
       "    </tr>\n",
       "    <tr>\n",
       "      <th>Werder Bremen</th>\n",
       "      <td>Hertha</td>\n",
       "      <td>2</td>\n",
       "      <td>0</td>\n",
       "      <td>H</td>\n",
       "      <td>2</td>\n",
       "      <td>0</td>\n",
       "      <td>H</td>\n",
       "    </tr>\n",
       "    <tr>\n",
       "      <th>Wolfsburg</th>\n",
       "      <td>Bayern Munich</td>\n",
       "      <td>0</td>\n",
       "      <td>6</td>\n",
       "      <td>A</td>\n",
       "      <td>0</td>\n",
       "      <td>3</td>\n",
       "      <td>A</td>\n",
       "    </tr>\n",
       "    <tr>\n",
       "      <th>Augsburg</th>\n",
       "      <td>Hamburg</td>\n",
       "      <td>4</td>\n",
       "      <td>0</td>\n",
       "      <td>H</td>\n",
       "      <td>2</td>\n",
       "      <td>0</td>\n",
       "      <td>H</td>\n",
       "    </tr>\n",
       "    <tr>\n",
       "      <th>Hoffenheim</th>\n",
       "      <td>Ein Frankfurt</td>\n",
       "      <td>1</td>\n",
       "      <td>0</td>\n",
       "      <td>H</td>\n",
       "      <td>0</td>\n",
       "      <td>0</td>\n",
       "      <td>D</td>\n",
       "    </tr>\n",
       "  </tbody>\n",
       "</table>\n",
       "<p>280 rows × 7 columns</p>\n",
       "</div>"
      ],
      "text/plain": [
       "                    AwayTeam  FTHG  FTAG  FTR  HTHG  HTAG  HTR\n",
       "HomeTeam                                                      \n",
       "HomeTeam            AwayTeam  FTHG  FTAG  FTR  HTHG  HTAG  HTR\n",
       "Bayern Munich  Werder Bremen     6     0    H     2     0    H\n",
       "Augsburg           Wolfsburg     0     2    A     0     1    A\n",
       "Dortmund               Mainz     2     1    H     1     0    H\n",
       "Ein Frankfurt     Schalke 04     1     0    H     1     0    H\n",
       "...                      ...   ...   ...  ...   ...   ...  ...\n",
       "RB Leipzig        Ingolstadt     0     0    D     0     0    D\n",
       "Werder Bremen         Hertha     2     0    H     2     0    H\n",
       "Wolfsburg      Bayern Munich     0     6    A     0     3    A\n",
       "Augsburg             Hamburg     4     0    H     2     0    H\n",
       "Hoffenheim     Ein Frankfurt     1     0    H     0     0    D\n",
       "\n",
       "[280 rows x 7 columns]"
      ]
     },
     "execution_count": 57,
     "metadata": {},
     "output_type": "execute_result"
    }
   ],
   "source": [
    "pd.set_option('display.max_columns', 10)\n",
    "pd.set_option('display.max_rows', 10)\n",
    "\n",
    "Germanleague = pd.read_csv('https://raw.githubusercontent.com/Shinseeker/IS362_FINAL/master/Bundesliga.csv', header=None, usecols=[2,3,4,5,6,7,8,9], names=[\"HomeTeam\",\"AwayTeam\", \"FTHG\",\"FTAG\",\"FTR\",\"HTHG\",\"HTAG\",\"HTR\"])\n",
    "Germanleague.sort_values([\"FTHG\",\"FTAG\",\"FTR\",\"HTHG\",\"HTAG\",\"HTR\"], ascending=False)\n",
    "Germanleague = Germanleague.set_index(\"HomeTeam\")\n",
    "Germanleague"
   ]
  },
  {
   "cell_type": "markdown",
   "metadata": {},
   "source": [
    "From the code below i am reading the csv and putting into a dataframe called the \"Englishleague\". Then I Verfied the data to see if it was in Ascending order and it is identical with the csv."
   ]
  },
  {
   "cell_type": "code",
   "execution_count": 58,
   "metadata": {
    "collapsed": false
   },
   "outputs": [
    {
     "data": {
      "text/html": [
       "<div>\n",
       "<table border=\"1\" class=\"dataframe\">\n",
       "  <thead>\n",
       "    <tr style=\"text-align: right;\">\n",
       "      <th></th>\n",
       "      <th>AwayTeam</th>\n",
       "      <th>FTHG</th>\n",
       "      <th>FTAG</th>\n",
       "      <th>FTR</th>\n",
       "      <th>HTHG</th>\n",
       "      <th>HTAG</th>\n",
       "      <th>HTR</th>\n",
       "    </tr>\n",
       "    <tr>\n",
       "      <th>HomeTeam</th>\n",
       "      <th></th>\n",
       "      <th></th>\n",
       "      <th></th>\n",
       "      <th></th>\n",
       "      <th></th>\n",
       "      <th></th>\n",
       "      <th></th>\n",
       "    </tr>\n",
       "  </thead>\n",
       "  <tbody>\n",
       "    <tr>\n",
       "      <th>HomeTeam</th>\n",
       "      <td>AwayTeam</td>\n",
       "      <td>FTHG</td>\n",
       "      <td>FTAG</td>\n",
       "      <td>FTR</td>\n",
       "      <td>HTHG</td>\n",
       "      <td>HTAG</td>\n",
       "      <td>HTR</td>\n",
       "    </tr>\n",
       "    <tr>\n",
       "      <th>Burnley</th>\n",
       "      <td>Swansea</td>\n",
       "      <td>0</td>\n",
       "      <td>1</td>\n",
       "      <td>A</td>\n",
       "      <td>0</td>\n",
       "      <td>0</td>\n",
       "      <td>D</td>\n",
       "    </tr>\n",
       "    <tr>\n",
       "      <th>Crystal Palace</th>\n",
       "      <td>West Brom</td>\n",
       "      <td>0</td>\n",
       "      <td>1</td>\n",
       "      <td>A</td>\n",
       "      <td>0</td>\n",
       "      <td>0</td>\n",
       "      <td>D</td>\n",
       "    </tr>\n",
       "    <tr>\n",
       "      <th>Everton</th>\n",
       "      <td>Tottenham</td>\n",
       "      <td>1</td>\n",
       "      <td>1</td>\n",
       "      <td>D</td>\n",
       "      <td>1</td>\n",
       "      <td>0</td>\n",
       "      <td>H</td>\n",
       "    </tr>\n",
       "    <tr>\n",
       "      <th>Hull</th>\n",
       "      <td>Leicester</td>\n",
       "      <td>2</td>\n",
       "      <td>1</td>\n",
       "      <td>H</td>\n",
       "      <td>1</td>\n",
       "      <td>0</td>\n",
       "      <td>H</td>\n",
       "    </tr>\n",
       "    <tr>\n",
       "      <th>...</th>\n",
       "      <td>...</td>\n",
       "      <td>...</td>\n",
       "      <td>...</td>\n",
       "      <td>...</td>\n",
       "      <td>...</td>\n",
       "      <td>...</td>\n",
       "      <td>...</td>\n",
       "    </tr>\n",
       "    <tr>\n",
       "      <th>Everton</th>\n",
       "      <td>Chelsea</td>\n",
       "      <td>0</td>\n",
       "      <td>3</td>\n",
       "      <td>A</td>\n",
       "      <td>0</td>\n",
       "      <td>0</td>\n",
       "      <td>D</td>\n",
       "    </tr>\n",
       "    <tr>\n",
       "      <th>Man United</th>\n",
       "      <td>Swansea</td>\n",
       "      <td>1</td>\n",
       "      <td>1</td>\n",
       "      <td>D</td>\n",
       "      <td>1</td>\n",
       "      <td>0</td>\n",
       "      <td>H</td>\n",
       "    </tr>\n",
       "    <tr>\n",
       "      <th>Middlesbrough</th>\n",
       "      <td>Man City</td>\n",
       "      <td>2</td>\n",
       "      <td>2</td>\n",
       "      <td>D</td>\n",
       "      <td>1</td>\n",
       "      <td>0</td>\n",
       "      <td>H</td>\n",
       "    </tr>\n",
       "    <tr>\n",
       "      <th>Tottenham</th>\n",
       "      <td>Arsenal</td>\n",
       "      <td>2</td>\n",
       "      <td>0</td>\n",
       "      <td>H</td>\n",
       "      <td>0</td>\n",
       "      <td>0</td>\n",
       "      <td>D</td>\n",
       "    </tr>\n",
       "    <tr>\n",
       "      <th>Watford</th>\n",
       "      <td>Liverpool</td>\n",
       "      <td>0</td>\n",
       "      <td>1</td>\n",
       "      <td>A</td>\n",
       "      <td>0</td>\n",
       "      <td>1</td>\n",
       "      <td>A</td>\n",
       "    </tr>\n",
       "  </tbody>\n",
       "</table>\n",
       "<p>345 rows × 7 columns</p>\n",
       "</div>"
      ],
      "text/plain": [
       "                 AwayTeam  FTHG  FTAG  FTR  HTHG  HTAG  HTR\n",
       "HomeTeam                                                   \n",
       "HomeTeam         AwayTeam  FTHG  FTAG  FTR  HTHG  HTAG  HTR\n",
       "Burnley           Swansea     0     1    A     0     0    D\n",
       "Crystal Palace  West Brom     0     1    A     0     0    D\n",
       "Everton         Tottenham     1     1    D     1     0    H\n",
       "Hull            Leicester     2     1    H     1     0    H\n",
       "...                   ...   ...   ...  ...   ...   ...  ...\n",
       "Everton           Chelsea     0     3    A     0     0    D\n",
       "Man United        Swansea     1     1    D     1     0    H\n",
       "Middlesbrough    Man City     2     2    D     1     0    H\n",
       "Tottenham         Arsenal     2     0    H     0     0    D\n",
       "Watford         Liverpool     0     1    A     0     1    A\n",
       "\n",
       "[345 rows x 7 columns]"
      ]
     },
     "execution_count": 58,
     "metadata": {},
     "output_type": "execute_result"
    }
   ],
   "source": [
    "pd.set_option('display.max_columns', 10)\n",
    "pd.set_option('display.max_rows', 10)\n",
    "\n",
    "Englishleague = pd.read_csv('https://raw.githubusercontent.com/Shinseeker/IS362_FINAL/master/Premierleague.csv', header=None, usecols=[2,3,4,5,6,7,8,9], names=[\"HomeTeam\",\"AwayTeam\", \"FTHG\",\"FTAG\",\"FTR\",\"HTHG\",\"HTAG\",\"HTR\"])\n",
    "Englishleague.sort_values([\"FTHG\",\"FTAG\",\"FTR\",\"HTHG\",\"HTAG\",\"HTR\"], ascending=False)\n",
    "Englishleague = Englishleague.set_index(\"HomeTeam\")\n",
    "Englishleague"
   ]
  },
  {
   "cell_type": "code",
   "execution_count": 59,
   "metadata": {
    "collapsed": false
   },
   "outputs": [
    {
     "data": {
      "text/plain": [
       "Index(['AwayTeam', 'FTHG', 'FTAG', 'FTR', 'HTHG', 'HTAG', 'HTR'], dtype='object')"
      ]
     },
     "execution_count": 59,
     "metadata": {},
     "output_type": "execute_result"
    }
   ],
   "source": [
    "Germanleague.columns"
   ]
  },
  {
   "cell_type": "code",
   "execution_count": 60,
   "metadata": {
    "collapsed": false
   },
   "outputs": [
    {
     "data": {
      "text/plain": [
       "Index(['HomeTeam', 'Bayern Munich', 'Augsburg', 'Dortmund', 'Ein Frankfurt',\n",
       "       'FC Koln', 'Hamburg', 'M'gladbach', 'Hertha', 'Hoffenheim',\n",
       "       ...\n",
       "       'Schalke 04', 'Leverkusen', 'Darmstadt', 'Dortmund', 'Mainz',\n",
       "       'RB Leipzig', 'Werder Bremen', 'Wolfsburg', 'Augsburg', 'Hoffenheim'],\n",
       "      dtype='object', name='HomeTeam', length=280)"
      ]
     },
     "execution_count": 60,
     "metadata": {},
     "output_type": "execute_result"
    }
   ],
   "source": [
    "Germanleague.index"
   ]
  },
  {
   "cell_type": "code",
   "execution_count": 61,
   "metadata": {
    "collapsed": false
   },
   "outputs": [
    {
     "data": {
      "text/plain": [
       "Index(['HomeTeam', 'Burnley', 'Crystal Palace', 'Everton', 'Hull', 'Man City',\n",
       "       'Middlesbrough', 'Southampton', 'Arsenal', 'Bournemouth',\n",
       "       ...\n",
       "       'Crystal Palace', 'Southampton', 'Stoke', 'Sunderland', 'West Brom',\n",
       "       'Everton', 'Man United', 'Middlesbrough', 'Tottenham', 'Watford'],\n",
       "      dtype='object', name='HomeTeam', length=345)"
      ]
     },
     "execution_count": 61,
     "metadata": {},
     "output_type": "execute_result"
    }
   ],
   "source": [
    "Englishleague.index"
   ]
  },
  {
   "cell_type": "code",
   "execution_count": 62,
   "metadata": {
    "collapsed": false
   },
   "outputs": [
    {
     "data": {
      "text/plain": [
       "Index(['HomeTeam', 'Burnley', 'Crystal Palace', 'Everton', 'Hull', 'Man City',\n",
       "       'Middlesbrough', 'Southampton', 'Arsenal', 'Bournemouth',\n",
       "       ...\n",
       "       'Crystal Palace', 'Southampton', 'Stoke', 'Sunderland', 'West Brom',\n",
       "       'Everton', 'Man United', 'Middlesbrough', 'Tottenham', 'Watford'],\n",
       "      dtype='object', name='HomeTeam', length=345)"
      ]
     },
     "execution_count": 62,
     "metadata": {},
     "output_type": "execute_result"
    }
   ],
   "source": [
    "Englishleague.index"
   ]
  },
  {
   "cell_type": "code",
   "execution_count": 63,
   "metadata": {
    "collapsed": false
   },
   "outputs": [
    {
     "data": {
      "text/plain": [
       "<matplotlib.axes._subplots.AxesSubplot at 0x16e6bc7f6d8>"
      ]
     },
     "execution_count": 63,
     "metadata": {},
     "output_type": "execute_result"
    },
    {
     "data": {
      "image/png": "[encoded data removed]",
      "text/plain": [
       "<matplotlib.figure.Figure at 0x16e6bdfceb8>"
      ]
     },
     "metadata": {},
     "output_type": "display_data"
    }
   ],
   "source": [
    "Germanleague.groupby(\"FTHG\").size().plot(kind=\"bar\",title=\"Full Time Home Team Goals\")"
   ]
  },
  {
   "cell_type": "code",
   "execution_count": 64,
   "metadata": {
    "collapsed": false
   },
   "outputs": [
    {
     "data": {
      "text/plain": [
       "<matplotlib.axes._subplots.AxesSubplot at 0x16e6bed7470>"
      ]
     },
     "execution_count": 64,
     "metadata": {},
     "output_type": "execute_result"
    },
    {
     "data": {
      "image/png": "[encoded data removed]",
      "text/plain": [
       "<matplotlib.figure.Figure at 0x16e6bee91d0>"
      ]
     },
     "metadata": {},
     "output_type": "display_data"
    }
   ],
   "source": [
    "Germanleague.groupby(\"FTAG\").size().plot(kind=\"bar\", title=\"Full Time Home Team Goals\")"
   ]
  },
  {
   "cell_type": "code",
   "execution_count": 65,
   "metadata": {
    "collapsed": false
   },
   "outputs": [
    {
     "data": {
      "text/plain": [
       "<matplotlib.axes._subplots.AxesSubplot at 0x16e6bf1f6d8>"
      ]
     },
     "execution_count": 65,
     "metadata": {},
     "output_type": "execute_result"
    },
    {
     "data": {
      "image/png": "[encoded data removed]",
      "text/plain": [
       "<matplotlib.figure.Figure at 0x16e6bf92748>"
      ]
     },
     "metadata": {},
     "output_type": "display_data"
    }
   ],
   "source": [
    "Englishleague.groupby(\"FTHG\").size().plot(kind=\"bar\",title=\"Full Time Home Team Goals\")"
   ]
  },
  {
   "cell_type": "code",
   "execution_count": 66,
   "metadata": {
    "collapsed": false
   },
   "outputs": [
    {
     "data": {
      "text/plain": [
       "<matplotlib.axes._subplots.AxesSubplot at 0x16e6bfc43c8>"
      ]
     },
     "execution_count": 66,
     "metadata": {},
     "output_type": "execute_result"
    },
    {
     "data": {
      "image/png": "[encoded data removed]",
      "text/plain": [
       "<matplotlib.figure.Figure at 0x16e6c02a710>"
      ]
     },
     "metadata": {},
     "output_type": "display_data"
    }
   ],
   "source": [
    "Englishleague.groupby(\"FTAG\").size().plot(kind=\"bar\",title=\"Full Time Home Team Goals\")"
   ]
  },
  {
   "cell_type": "code",
   "execution_count": 70,
   "metadata": {
    "collapsed": false
   },
   "outputs": [
    {
     "data": {
      "text/html": [
       "<div>\n",
       "<table border=\"1\" class=\"dataframe\">\n",
       "  <thead>\n",
       "    <tr style=\"text-align: right;\">\n",
       "      <th></th>\n",
       "      <th>AwayTeam_x</th>\n",
       "      <th>FTHG</th>\n",
       "      <th>FTAG</th>\n",
       "      <th>FTR</th>\n",
       "      <th>HTHG</th>\n",
       "      <th>HTAG</th>\n",
       "      <th>HTR</th>\n",
       "      <th>AwayTeam_y</th>\n",
       "    </tr>\n",
       "  </thead>\n",
       "  <tbody>\n",
       "    <tr>\n",
       "      <th>0</th>\n",
       "      <td>AwayTeam</td>\n",
       "      <td>FTHG</td>\n",
       "      <td>FTAG</td>\n",
       "      <td>FTR</td>\n",
       "      <td>HTHG</td>\n",
       "      <td>HTAG</td>\n",
       "      <td>HTR</td>\n",
       "      <td>AwayTeam</td>\n",
       "    </tr>\n",
       "    <tr>\n",
       "      <th>1</th>\n",
       "      <td>Wolfsburg</td>\n",
       "      <td>0</td>\n",
       "      <td>2</td>\n",
       "      <td>A</td>\n",
       "      <td>0</td>\n",
       "      <td>1</td>\n",
       "      <td>A</td>\n",
       "      <td>Stoke</td>\n",
       "    </tr>\n",
       "    <tr>\n",
       "      <th>2</th>\n",
       "      <td>Wolfsburg</td>\n",
       "      <td>0</td>\n",
       "      <td>2</td>\n",
       "      <td>A</td>\n",
       "      <td>0</td>\n",
       "      <td>1</td>\n",
       "      <td>A</td>\n",
       "      <td>Chelsea</td>\n",
       "    </tr>\n",
       "    <tr>\n",
       "      <th>3</th>\n",
       "      <td>Wolfsburg</td>\n",
       "      <td>0</td>\n",
       "      <td>2</td>\n",
       "      <td>A</td>\n",
       "      <td>0</td>\n",
       "      <td>1</td>\n",
       "      <td>A</td>\n",
       "      <td>Man United</td>\n",
       "    </tr>\n",
       "    <tr>\n",
       "      <th>4</th>\n",
       "      <td>Wolfsburg</td>\n",
       "      <td>0</td>\n",
       "      <td>2</td>\n",
       "      <td>A</td>\n",
       "      <td>0</td>\n",
       "      <td>1</td>\n",
       "      <td>A</td>\n",
       "      <td>Man City</td>\n",
       "    </tr>\n",
       "    <tr>\n",
       "      <th>...</th>\n",
       "      <td>...</td>\n",
       "      <td>...</td>\n",
       "      <td>...</td>\n",
       "      <td>...</td>\n",
       "      <td>...</td>\n",
       "      <td>...</td>\n",
       "      <td>...</td>\n",
       "      <td>...</td>\n",
       "    </tr>\n",
       "    <tr>\n",
       "      <th>2150</th>\n",
       "      <td>RB Leipzig</td>\n",
       "      <td>2</td>\n",
       "      <td>3</td>\n",
       "      <td>A</td>\n",
       "      <td>0</td>\n",
       "      <td>0</td>\n",
       "      <td>D</td>\n",
       "      <td>Swansea</td>\n",
       "    </tr>\n",
       "    <tr>\n",
       "      <th>2151</th>\n",
       "      <td>Wolfsburg</td>\n",
       "      <td>4</td>\n",
       "      <td>1</td>\n",
       "      <td>H</td>\n",
       "      <td>2</td>\n",
       "      <td>0</td>\n",
       "      <td>H</td>\n",
       "      <td>Stoke</td>\n",
       "    </tr>\n",
       "    <tr>\n",
       "      <th>2152</th>\n",
       "      <td>Mainz</td>\n",
       "      <td>2</td>\n",
       "      <td>2</td>\n",
       "      <td>D</td>\n",
       "      <td>1</td>\n",
       "      <td>2</td>\n",
       "      <td>A</td>\n",
       "      <td>West Ham</td>\n",
       "    </tr>\n",
       "    <tr>\n",
       "      <th>2153</th>\n",
       "      <td>Mainz</td>\n",
       "      <td>2</td>\n",
       "      <td>2</td>\n",
       "      <td>D</td>\n",
       "      <td>1</td>\n",
       "      <td>2</td>\n",
       "      <td>A</td>\n",
       "      <td>Man City</td>\n",
       "    </tr>\n",
       "    <tr>\n",
       "      <th>2154</th>\n",
       "      <td>Schalke 04</td>\n",
       "      <td>1</td>\n",
       "      <td>4</td>\n",
       "      <td>A</td>\n",
       "      <td>0</td>\n",
       "      <td>3</td>\n",
       "      <td>A</td>\n",
       "      <td>Tottenham</td>\n",
       "    </tr>\n",
       "  </tbody>\n",
       "</table>\n",
       "<p>2155 rows × 8 columns</p>\n",
       "</div>"
      ],
      "text/plain": [
       "      AwayTeam_x  FTHG  FTAG  FTR  HTHG  HTAG  HTR  AwayTeam_y\n",
       "0       AwayTeam  FTHG  FTAG  FTR  HTHG  HTAG  HTR    AwayTeam\n",
       "1      Wolfsburg     0     2    A     0     1    A       Stoke\n",
       "2      Wolfsburg     0     2    A     0     1    A     Chelsea\n",
       "3      Wolfsburg     0     2    A     0     1    A  Man United\n",
       "4      Wolfsburg     0     2    A     0     1    A    Man City\n",
       "...          ...   ...   ...  ...   ...   ...  ...         ...\n",
       "2150  RB Leipzig     2     3    A     0     0    D     Swansea\n",
       "2151   Wolfsburg     4     1    H     2     0    H       Stoke\n",
       "2152       Mainz     2     2    D     1     2    A    West Ham\n",
       "2153       Mainz     2     2    D     1     2    A    Man City\n",
       "2154  Schalke 04     1     4    A     0     3    A   Tottenham\n",
       "\n",
       "[2155 rows x 8 columns]"
      ]
     },
     "execution_count": 70,
     "metadata": {},
     "output_type": "execute_result"
    }
   ],
   "source": [
    "pd.merge(Germanleague, Englishleague, on=['FTHG','FTAG','FTR','HTHG','HTAG','HTR'], how='inner')"
   ]
  },
  {
   "cell_type": "code",
   "execution_count": null,
   "metadata": {
    "collapsed": true
   },
   "outputs": [],
   "source": []
  },
  {
   "cell_type": "code",
   "execution_count": null,
   "metadata": {
    "collapsed": true
   },
   "outputs": [],
   "source": []
  }
 ],
 "metadata": {
  "kernelspec": {
   "display_name": "Python 3",
   "language": "python",
   "name": "python3"
  },
  "language_info": {
   "codemirror_mode": {
    "name": "ipython",
    "version": 3
   },
   "file_extension": ".py",
   "mimetype": "text/x-python",
   "name": "python",
   "nbconvert_exporter": "python",
   "pygments_lexer": "ipython3",
   "version": "3.6.0"
  }
 },
 "nbformat": 4,
 "nbformat_minor": 2
}
